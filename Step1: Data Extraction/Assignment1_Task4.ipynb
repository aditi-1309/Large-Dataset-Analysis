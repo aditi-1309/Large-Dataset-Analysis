{
 "cells": [
  {
   "cell_type": "code",
   "execution_count": 1,
   "metadata": {},
   "outputs": [
    {
     "name": "stdout",
     "output_type": "stream",
     "text": [
      "Collecting sasl\n",
      "  Downloading sasl-0.3.1.tar.gz (44 kB)\n",
      "Requirement already satisfied: six in c:\\users\\adbha\\anaconda3\\lib\\site-packages (from sasl) (1.15.0)\n",
      "Building wheels for collected packages: sasl\n",
      "  Building wheel for sasl (setup.py): started\n",
      "  Building wheel for sasl (setup.py): finished with status 'error'\n",
      "  Running setup.py clean for sasl\n",
      "Failed to build sasl\n",
      "Installing collected packages: sasl\n",
      "    Running setup.py install for sasl: started\n",
      "    Running setup.py install for sasl: finished with status 'error'\n"
     ]
    },
    {
     "name": "stderr",
     "output_type": "stream",
     "text": [
      "  ERROR: Command errored out with exit status 1:\n",
      "   command: 'C:\\Users\\adbha\\anaconda3\\python.exe' -u -c 'import sys, setuptools, tokenize; sys.argv[0] = '\"'\"'C:\\\\Users\\\\adbha\\\\AppData\\\\Local\\\\Temp\\\\pip-install-n46ss6o0\\\\sasl\\\\setup.py'\"'\"'; __file__='\"'\"'C:\\\\Users\\\\adbha\\\\AppData\\\\Local\\\\Temp\\\\pip-install-n46ss6o0\\\\sasl\\\\setup.py'\"'\"';f=getattr(tokenize, '\"'\"'open'\"'\"', open)(__file__);code=f.read().replace('\"'\"'\\r\\n'\"'\"', '\"'\"'\\n'\"'\"');f.close();exec(compile(code, __file__, '\"'\"'exec'\"'\"'))' bdist_wheel -d 'C:\\Users\\adbha\\AppData\\Local\\Temp\\pip-wheel-mwhkbl1i'\n",
      "       cwd: C:\\Users\\adbha\\AppData\\Local\\Temp\\pip-install-n46ss6o0\\sasl\\\n",
      "  Complete output (21 lines):\n",
      "  running bdist_wheel\n",
      "  running build\n",
      "  running build_py\n",
      "  creating build\n",
      "  creating build\\lib.win-amd64-3.8\n",
      "  creating build\\lib.win-amd64-3.8\\sasl\n",
      "  copying sasl\\__init__.py -> build\\lib.win-amd64-3.8\\sasl\n",
      "  running egg_info\n",
      "  writing sasl.egg-info\\PKG-INFO\n",
      "  writing dependency_links to sasl.egg-info\\dependency_links.txt\n",
      "  writing requirements to sasl.egg-info\\requires.txt\n",
      "  writing top-level names to sasl.egg-info\\top_level.txt\n",
      "  reading manifest file 'sasl.egg-info\\SOURCES.txt'\n",
      "  reading manifest template 'MANIFEST.in'\n",
      "  writing manifest file 'sasl.egg-info\\SOURCES.txt'\n",
      "  copying sasl\\saslwrapper.cpp -> build\\lib.win-amd64-3.8\\sasl\n",
      "  copying sasl\\saslwrapper.h -> build\\lib.win-amd64-3.8\\sasl\n",
      "  copying sasl\\saslwrapper.pyx -> build\\lib.win-amd64-3.8\\sasl\n",
      "  running build_ext\n",
      "  building 'sasl.saslwrapper' extension\n",
      "  error: Microsoft Visual C++ 14.0 is required. Get it with \"Build Tools for Visual Studio\": https://visualstudio.microsoft.com/downloads/\n",
      "  ----------------------------------------\n",
      "  ERROR: Failed building wheel for sasl\n",
      "    ERROR: Command errored out with exit status 1:\n",
      "     command: 'C:\\Users\\adbha\\anaconda3\\python.exe' -u -c 'import sys, setuptools, tokenize; sys.argv[0] = '\"'\"'C:\\\\Users\\\\adbha\\\\AppData\\\\Local\\\\Temp\\\\pip-install-n46ss6o0\\\\sasl\\\\setup.py'\"'\"'; __file__='\"'\"'C:\\\\Users\\\\adbha\\\\AppData\\\\Local\\\\Temp\\\\pip-install-n46ss6o0\\\\sasl\\\\setup.py'\"'\"';f=getattr(tokenize, '\"'\"'open'\"'\"', open)(__file__);code=f.read().replace('\"'\"'\\r\\n'\"'\"', '\"'\"'\\n'\"'\"');f.close();exec(compile(code, __file__, '\"'\"'exec'\"'\"'))' install --record 'C:\\Users\\adbha\\AppData\\Local\\Temp\\pip-record-la26vtr9\\install-record.txt' --single-version-externally-managed --compile --install-headers 'C:\\Users\\adbha\\anaconda3\\Include\\sasl'\n",
      "         cwd: C:\\Users\\adbha\\AppData\\Local\\Temp\\pip-install-n46ss6o0\\sasl\\\n",
      "    Complete output (21 lines):\n",
      "    running install\n",
      "    running build\n",
      "    running build_py\n",
      "    creating build\n",
      "    creating build\\lib.win-amd64-3.8\n",
      "    creating build\\lib.win-amd64-3.8\\sasl\n",
      "    copying sasl\\__init__.py -> build\\lib.win-amd64-3.8\\sasl\n",
      "    running egg_info\n",
      "    writing sasl.egg-info\\PKG-INFO\n",
      "    writing dependency_links to sasl.egg-info\\dependency_links.txt\n",
      "    writing requirements to sasl.egg-info\\requires.txt\n",
      "    writing top-level names to sasl.egg-info\\top_level.txt\n",
      "    reading manifest file 'sasl.egg-info\\SOURCES.txt'\n",
      "    reading manifest template 'MANIFEST.in'\n",
      "    writing manifest file 'sasl.egg-info\\SOURCES.txt'\n",
      "    copying sasl\\saslwrapper.cpp -> build\\lib.win-amd64-3.8\\sasl\n",
      "    copying sasl\\saslwrapper.h -> build\\lib.win-amd64-3.8\\sasl\n",
      "    copying sasl\\saslwrapper.pyx -> build\\lib.win-amd64-3.8\\sasl\n",
      "    running build_ext\n",
      "    building 'sasl.saslwrapper' extension\n",
      "    error: Microsoft Visual C++ 14.0 is required. Get it with \"Build Tools for Visual Studio\": https://visualstudio.microsoft.com/downloads/\n",
      "    ----------------------------------------\n",
      "ERROR: Command errored out with exit status 1: 'C:\\Users\\adbha\\anaconda3\\python.exe' -u -c 'import sys, setuptools, tokenize; sys.argv[0] = '\"'\"'C:\\\\Users\\\\adbha\\\\AppData\\\\Local\\\\Temp\\\\pip-install-n46ss6o0\\\\sasl\\\\setup.py'\"'\"'; __file__='\"'\"'C:\\\\Users\\\\adbha\\\\AppData\\\\Local\\\\Temp\\\\pip-install-n46ss6o0\\\\sasl\\\\setup.py'\"'\"';f=getattr(tokenize, '\"'\"'open'\"'\"', open)(__file__);code=f.read().replace('\"'\"'\\r\\n'\"'\"', '\"'\"'\\n'\"'\"');f.close();exec(compile(code, __file__, '\"'\"'exec'\"'\"'))' install --record 'C:\\Users\\adbha\\AppData\\Local\\Temp\\pip-record-la26vtr9\\install-record.txt' --single-version-externally-managed --compile --install-headers 'C:\\Users\\adbha\\anaconda3\\Include\\sasl' Check the logs for full command output.\n"
     ]
    },
    {
     "name": "stdout",
     "output_type": "stream",
     "text": [
      "Collecting thrift\n",
      "  Downloading thrift-0.15.0.tar.gz (59 kB)\n",
      "Requirement already satisfied: six>=1.7.2 in c:\\users\\adbha\\anaconda3\\lib\\site-packages (from thrift) (1.15.0)\n",
      "Building wheels for collected packages: thrift\n",
      "  Building wheel for thrift (setup.py): started\n",
      "  Building wheel for thrift (setup.py): finished with status 'done'\n",
      "  Created wheel for thrift: filename=thrift-0.15.0-py3-none-any.whl size=155948 sha256=33cb6b705f245d5faf94fa10dba7097aa28f852098b327a80c54fac8c5f91078\n",
      "  Stored in directory: c:\\users\\adbha\\appdata\\local\\pip\\cache\\wheels\\4c\\b5\\5b\\10af165d7e0895afdfe25ad487422ae8ada6ea422b0dc444ab\n",
      "Successfully built thrift\n",
      "Installing collected packages: thrift\n",
      "Successfully installed thrift-0.15.0\n",
      "Collecting thrift-sasl\n",
      "  Downloading thrift_sasl-0.4.3-py2.py3-none-any.whl (8.3 kB)\n",
      "Collecting pure-sasl>=0.6.2\n",
      "  Downloading pure-sasl-0.6.2.tar.gz (11 kB)\n",
      "Requirement already satisfied: six>=1.13.0 in c:\\users\\adbha\\anaconda3\\lib\\site-packages (from thrift-sasl) (1.15.0)\n",
      "Requirement already satisfied: thrift>=0.10.0; python_version >= \"3.0\" in c:\\users\\adbha\\anaconda3\\lib\\site-packages (from thrift-sasl) (0.15.0)\n",
      "Building wheels for collected packages: pure-sasl\n",
      "  Building wheel for pure-sasl (setup.py): started\n",
      "  Building wheel for pure-sasl (setup.py): finished with status 'done'\n",
      "  Created wheel for pure-sasl: filename=pure_sasl-0.6.2-py3-none-any.whl size=11435 sha256=2f56e75f2934d3871d8acd84ae9279e354403e0b1ff219edb9fc23f396d166c2\n",
      "  Stored in directory: c:\\users\\adbha\\appdata\\local\\pip\\cache\\wheels\\af\\5e\\ca\\57ff2c5801d038e3d8b227a4fb492cd84e43a535d64a06f3f2\n",
      "Successfully built pure-sasl\n",
      "Installing collected packages: pure-sasl, thrift-sasl\n",
      "Successfully installed pure-sasl-0.6.2 thrift-sasl-0.4.3\n",
      "Collecting Pyhive\n",
      "  Downloading PyHive-0.6.4.tar.gz (44 kB)\n",
      "Requirement already satisfied: future in c:\\users\\adbha\\anaconda3\\lib\\site-packages (from Pyhive) (0.18.2)\n",
      "Requirement already satisfied: python-dateutil in c:\\users\\adbha\\anaconda3\\lib\\site-packages (from Pyhive) (2.8.1)\n",
      "Requirement already satisfied: six>=1.5 in c:\\users\\adbha\\anaconda3\\lib\\site-packages (from python-dateutil->Pyhive) (1.15.0)\n",
      "Building wheels for collected packages: Pyhive\n",
      "  Building wheel for Pyhive (setup.py): started\n",
      "  Building wheel for Pyhive (setup.py): finished with status 'done'\n",
      "  Created wheel for Pyhive: filename=PyHive-0.6.4-py3-none-any.whl size=51498 sha256=4ffc89668e31ba1ac06e1af45d71504c2f22f3d8f9cc6057c81b11ebc0b6f257\n",
      "  Stored in directory: c:\\users\\adbha\\appdata\\local\\pip\\cache\\wheels\\84\\f1\\d7\\6f7af9915dcb9abad04a80249755d01819315f77a3bbc976ba\n",
      "Successfully built Pyhive\n",
      "Installing collected packages: Pyhive\n",
      "Successfully installed Pyhive-0.6.4\n",
      "Requirement already satisfied: tabulate in c:\\users\\adbha\\anaconda3\\lib\\site-packages (0.8.9)\n"
     ]
    }
   ],
   "source": [
    "!pip install sasl\n",
    "!pip install thrift\n",
    "!pip install thrift-sasl\n",
    "!pip install Pyhive\n",
    "!pip install tabulate"
   ]
  },
  {
   "cell_type": "code",
   "execution_count": 2,
   "metadata": {},
   "outputs": [],
   "source": [
    "from pyhive import hive\n",
    "from tabulate import tabulate\n",
    "import pandas as pd"
   ]
  },
  {
   "cell_type": "code",
   "execution_count": 3,
   "metadata": {},
   "outputs": [
    {
     "ename": "ModuleNotFoundError",
     "evalue": "No module named 'sasl'",
     "output_type": "error",
     "traceback": [
      "\u001b[1;31m---------------------------------------------------------------------------\u001b[0m",
      "\u001b[1;31mModuleNotFoundError\u001b[0m                       Traceback (most recent call last)",
      "\u001b[1;32m<ipython-input-3-9f566f98ef1a>\u001b[0m in \u001b[0;36m<module>\u001b[1;34m\u001b[0m\n\u001b[1;32m----> 1\u001b[1;33m \u001b[0mconnect\u001b[0m \u001b[1;33m=\u001b[0m \u001b[0mhive\u001b[0m\u001b[1;33m.\u001b[0m\u001b[0mConnection\u001b[0m\u001b[1;33m(\u001b[0m\u001b[0mhost\u001b[0m\u001b[1;33m=\u001b[0m\u001b[1;34m'localhost'\u001b[0m\u001b[1;33m,\u001b[0m\u001b[0mport\u001b[0m\u001b[1;33m=\u001b[0m\u001b[1;36m10000\u001b[0m\u001b[1;33m,\u001b[0m\u001b[0musername\u001b[0m\u001b[1;33m=\u001b[0m\u001b[1;34m'aditi_bhat2'\u001b[0m\u001b[1;33m,\u001b[0m\u001b[0mpassword\u001b[0m\u001b[1;33m=\u001b[0m\u001b[1;34m'1921918913794740706'\u001b[0m\u001b[1;33m,\u001b[0m\u001b[0mdatabase\u001b[0m\u001b[1;33m=\u001b[0m\u001b[1;34m'default'\u001b[0m\u001b[1;33m,\u001b[0m\u001b[0mauth\u001b[0m\u001b[1;33m=\u001b[0m\u001b[1;34m'CUSTOM'\u001b[0m\u001b[1;33m)\u001b[0m\u001b[1;33m\u001b[0m\u001b[1;33m\u001b[0m\u001b[0m\n\u001b[0m\u001b[0;32m      2\u001b[0m \u001b[0mcon_var\u001b[0m \u001b[1;33m=\u001b[0m \u001b[0mconnect\u001b[0m\u001b[1;33m.\u001b[0m\u001b[0mcursor\u001b[0m\u001b[1;33m(\u001b[0m\u001b[1;33m)\u001b[0m\u001b[1;33m\u001b[0m\u001b[1;33m\u001b[0m\u001b[0m\n",
      "\u001b[1;32m~\\anaconda3\\lib\\site-packages\\pyhive\\hive.py\u001b[0m in \u001b[0;36m__init__\u001b[1;34m(self, host, port, scheme, username, database, auth, configuration, kerberos_service_name, password, check_hostname, ssl_cert, thrift_transport)\u001b[0m\n\u001b[0;32m    201\u001b[0m             \u001b[1;32melif\u001b[0m \u001b[0mauth\u001b[0m \u001b[1;32min\u001b[0m \u001b[1;33m(\u001b[0m\u001b[1;34m'LDAP'\u001b[0m\u001b[1;33m,\u001b[0m \u001b[1;34m'KERBEROS'\u001b[0m\u001b[1;33m,\u001b[0m \u001b[1;34m'NONE'\u001b[0m\u001b[1;33m,\u001b[0m \u001b[1;34m'CUSTOM'\u001b[0m\u001b[1;33m)\u001b[0m\u001b[1;33m:\u001b[0m\u001b[1;33m\u001b[0m\u001b[1;33m\u001b[0m\u001b[0m\n\u001b[0;32m    202\u001b[0m                 \u001b[1;31m# Defer import so package dependency is optional\u001b[0m\u001b[1;33m\u001b[0m\u001b[1;33m\u001b[0m\u001b[1;33m\u001b[0m\u001b[0m\n\u001b[1;32m--> 203\u001b[1;33m                 \u001b[1;32mimport\u001b[0m \u001b[0msasl\u001b[0m\u001b[1;33m\u001b[0m\u001b[1;33m\u001b[0m\u001b[0m\n\u001b[0m\u001b[0;32m    204\u001b[0m                 \u001b[1;32mimport\u001b[0m \u001b[0mthrift_sasl\u001b[0m\u001b[1;33m\u001b[0m\u001b[1;33m\u001b[0m\u001b[0m\n\u001b[0;32m    205\u001b[0m \u001b[1;33m\u001b[0m\u001b[0m\n",
      "\u001b[1;31mModuleNotFoundError\u001b[0m: No module named 'sasl'"
     ]
    }
   ],
   "source": [
    "connect = hive.Connection(host='localhost',port=10000,username='aditi_bhat2',password='1921918913794740706',database='default',auth='CUSTOM')\n",
    "con_var = connect.cursor()"
   ]
  },
  {
   "cell_type": "code",
   "execution_count": null,
   "metadata": {},
   "outputs": [],
   "source": [
    "con_var.execute('SELECT OwnerUserId, sum(Score) as PostScore FROM posts_db.posts_view WHERE OwnerUserID is not NULL GROUP BY OwnerUserId ORDER BY PostScore DESC LIMIT 10')\n",
    "result = con_var.fetchall()\n",
    "result"
   ]
  },
  {
   "cell_type": "code",
   "execution_count": null,
   "metadata": {},
   "outputs": [],
   "source": [
    "df = pd.read_sql(\"SELECT DISTINCT(OwnerUserId), OwnerDisplayName, Title, Body FROM posts_db.posts_view WHERE OwnerUserId IN (SELECT OwnerUserId from posts_db.top10users_view) ORDER BY OwnerUserId\",connect)\n",
    "df.head()\n"
   ]
  },
  {
   "cell_type": "code",
   "execution_count": null,
   "metadata": {},
   "outputs": [],
   "source": [
    "df[\"full_post\"] = df[\"title\"] +\" \"+ df[\"body\"]\n",
    "top10_users = list(df[\"owneruserid\"].unique())\n",
    "print(top10_users)\n",
    "df.full_post[0]"
   ]
  },
  {
   "cell_type": "code",
   "execution_count": null,
   "metadata": {},
   "outputs": [],
   "source": [
    "from sklearn.feature_extraction.text import TfidfVectorizer"
   ]
  },
  {
   "cell_type": "code",
   "execution_count": null,
   "metadata": {},
   "outputs": [],
   "source": [
    "def calculate_tf_idf(df):\n",
    "   vector = TfidfVectorizer(stop_words='english', lowercase=True) # Remove Stop Words\n",
    "   response = vector.fit_transform(df[\"full_post\"])                 # Use title field for TF/IDF\n",
    "   df_tfidf_skl = pd.DataFrame(reponse.toarray(), columns=vect.get_feature_names())\n",
    "   totaltf_idf = df_tfidf_skl.sum(axis = 0)                     # Remove sum of TF/IDF for getting top 10 most used words\n",
    "   top10_list = Totaltf_idf.nlargest(10)                        # Get top 10 words per user\n",
    "   top10_words = list(Top10_list.index)                         # Get list of top 10 words\n",
    "   df_tfidf_skl[Top10_words]                                    # Select only top 10 words as column\n",
    "   return df_tfidf_skl[Top10_words] "
   ]
  },
  {
   "cell_type": "code",
   "execution_count": null,
   "metadata": {},
   "outputs": [],
   "source": [
    "for user in top10_users:                              ## Iterate over all top 10 users\n",
    "   filtered_data = df[(df['owneruserid']==user)]      # Filter data only for selected user\n",
    "   tfidf_df = calculate_tf_idf(Filtered_data)                  # pass on to above function\n",
    "   print(\"For Username ID TF/IDF table : \"+str(user))\n",
    "   tfidf_df.insert(0, 'OwnerUserId', user)                 # attach username ID field to dataframe\n",
    "   display(Tfidf_df)"
   ]
  },
  {
   "cell_type": "code",
   "execution_count": null,
   "metadata": {},
   "outputs": [],
   "source": []
  }
 ],
 "metadata": {
  "kernelspec": {
   "display_name": "Python 3",
   "language": "python",
   "name": "python3"
  },
  "language_info": {
   "codemirror_mode": {
    "name": "ipython",
    "version": 3
   },
   "file_extension": ".py",
   "mimetype": "text/x-python",
   "name": "python",
   "nbconvert_exporter": "python",
   "pygments_lexer": "ipython3",
   "version": "3.8.3"
  }
 },
 "nbformat": 4,
 "nbformat_minor": 2
}
